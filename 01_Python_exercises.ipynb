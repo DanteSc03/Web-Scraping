{
 "cells": [
  {
   "cell_type": "markdown",
   "metadata": {},
   "source": [
    "### **1. Creating formulas**\n",
    "---\n",
    "Write the following mathematical formula in Python using a function:\n",
    "\n",
    "\\begin{align}\n",
    " result = 6a^3 - \\frac{8b^2 }{4c} + 11\n",
    "\\end{align}"
   ]
  },
  {
   "cell_type": "code",
   "execution_count": 4,
   "metadata": {},
   "outputs": [
    {
     "data": {
      "text/plain": [
       "50.0"
      ]
     },
     "execution_count": 4,
     "metadata": {},
     "output_type": "execute_result"
    }
   ],
   "source": [
    "# CODE HERE:\n",
    "def mathematical_function(a, b, c):\n",
    "    result = 6 * a**3 - (8 * b**2) / (4 * c) + 11\n",
    "    return result\n",
    "\n",
    "\n",
    "mathematical_function(a=2, b=3, c=2)\n",
    "# END CODE"
   ]
  },
  {
   "cell_type": "code",
   "execution_count": null,
   "metadata": {},
   "outputs": [],
   "source": [
    "# Expected result: 50 for a=2, b=3, c=2"
   ]
  },
  {
   "cell_type": "markdown",
   "metadata": {},
   "source": [
    "### **2. Fill missing pieces**\n",
    "---\n",
    "Fill `____` pieces below to have correct values for `lower_cased`, `stripped` and `stripped_lower_case` variables."
   ]
  },
  {
   "cell_type": "code",
   "execution_count": 6,
   "metadata": {},
   "outputs": [],
   "source": [
    "original = ' Python strings are COOL! '"
   ]
  },
  {
   "cell_type": "code",
   "execution_count": 8,
   "metadata": {},
   "outputs": [
    {
     "name": "stdout",
     "output_type": "stream",
     "text": [
      " python strings are cool! \n",
      "Python strings are COOL!\n",
      "python strings are cool!\n"
     ]
    }
   ],
   "source": [
    "# CODE HERE:\n",
    "\n",
    "lower_cased = original.lower()\n",
    "stripped = original.strip()\n",
    "stripped_lower_cased = lower_cased.strip()\n",
    "# END CODE\n",
    "print(lower_cased,\n",
    "      stripped,\n",
    "      stripped_lower_cased,\n",
    "      sep='\\n')\n"
   ]
  },
  {
   "cell_type": "code",
   "execution_count": null,
   "metadata": {},
   "outputs": [],
   "source": [
    "# Expected result:\n",
    "\n",
    "# lower_cased == ' python strings are cool! '\n",
    "# stripped == 'Python strings are COOL!'\n",
    "# stripped_lower_cased == 'python strings are cool!'"
   ]
  },
  {
   "cell_type": "markdown",
   "metadata": {},
   "source": [
    "### **3. Sum of List Elements:**\n",
    "---\n",
    "Write a program that calculates the sum of all the elements in a given list using a `for loop`"
   ]
  },
  {
   "cell_type": "code",
   "execution_count": 13,
   "metadata": {},
   "outputs": [],
   "source": [
    "lista = [1, 23, 3, 412, 425, 6, 7, 8, 9]"
   ]
  },
  {
   "cell_type": "code",
   "execution_count": 19,
   "metadata": {},
   "outputs": [
    {
     "name": "stdout",
     "output_type": "stream",
     "text": [
      "894\n"
     ]
    }
   ],
   "source": [
    "# CODE HERE:\n",
    "suma = 0\n",
    "\n",
    "for num in lista:\n",
    "    suma += num\n",
    "print(suma)\n",
    "\n",
    "\n",
    "# END CODE\n",
    "# Expected result: 894"
   ]
  },
  {
   "cell_type": "markdown",
   "metadata": {},
   "source": [
    "### **4. Find the Largest Number:**\n",
    "---\n",
    "Create a program that finds the largest number in a list using a `for loop`"
   ]
  },
  {
   "cell_type": "code",
   "execution_count": 22,
   "metadata": {},
   "outputs": [],
   "source": [
    "lista = [1, 2, 3, 4, 5, 6, 7, 8, 9, 0, 2, 6, 8, 24, 342, 11, 242]"
   ]
  },
  {
   "cell_type": "code",
   "execution_count": 33,
   "metadata": {},
   "outputs": [
    {
     "name": "stdout",
     "output_type": "stream",
     "text": [
      "342\n"
     ]
    }
   ],
   "source": [
    "# CODE HERE:\n",
    "higher = float('-inf')\n",
    "for num in lista:\n",
    "    if num > higher:\n",
    "        higher = num\n",
    "\n",
    "print(higher)\n",
    "\n",
    "\n",
    "# END CODE\n",
    "# Expected result: 342"
   ]
  },
  {
   "cell_type": "markdown",
   "metadata": {},
   "source": [
    "### **5. List Search:**\n",
    "---\n",
    "Write a function that searches for a specific element in a list and returns its index or -1 if not found. Use a `for loop` or a `while loop`"
   ]
  },
  {
   "cell_type": "code",
   "execution_count": 34,
   "metadata": {},
   "outputs": [],
   "source": [
    "lista = [1, 2, 3, 4, 5, 6, 7, 8, 9, 0, 2, 6, 8, 24, 342, 11, 242]\n",
    "element1 = 24\n",
    "element2 = 25"
   ]
  },
  {
   "cell_type": "code",
   "execution_count": 36,
   "metadata": {},
   "outputs": [
    {
     "name": "stdout",
     "output_type": "stream",
     "text": [
      "13\n",
      "-1\n"
     ]
    }
   ],
   "source": [
    "def find_element(lista, element):\n",
    "    # CODE HERE:\n",
    "    for i, num in enumerate(lista):\n",
    "        if num == element:\n",
    "            return i\n",
    "    return -1\n",
    "    \n",
    "\n",
    "    # END CODE\n",
    "\n",
    "\n",
    "print(find_element(lista, element1))\n",
    "print(find_element(lista, element2))\n",
    "# Result 1: 13\n",
    "# Result 2: -1"
   ]
  },
  {
   "cell_type": "markdown",
   "metadata": {},
   "source": [
    "### **6. List Reversal:**\n",
    "---\n",
    "Make a program to get `lista_reversed` which is `lista` in a reverse way. Use a `for loop` or a `while loop`"
   ]
  },
  {
   "cell_type": "code",
   "execution_count": 37,
   "metadata": {},
   "outputs": [],
   "source": [
    "lista = [1, 2, 3, 4, 5, 6, 7, 8, 9, 0, 2, 6, 8, 24, 342, 11, 242]\n",
    "lista_reversed = []"
   ]
  },
  {
   "cell_type": "code",
   "execution_count": 39,
   "metadata": {},
   "outputs": [
    {
     "name": "stdout",
     "output_type": "stream",
     "text": [
      "[242, 11, 342, 24, 8, 6, 2, 0, 9, 8, 7, 6, 5, 4, 3, 2, 1]\n"
     ]
    }
   ],
   "source": [
    "# CODE HERE:\n",
    "lista_reversed = lista[::-1]\n",
    "print(lista_reversed)\n",
    "\n",
    "# END CODE"
   ]
  },
  {
   "cell_type": "markdown",
   "metadata": {},
   "source": [
    "### <span style=\"color:red\">**7. Dictionary Creation:**</span>\n",
    "---\n",
    "Create a program that takes two lists, one for keys and one for values, and constructs a dictionary."
   ]
  },
  {
   "cell_type": "code",
   "execution_count": 40,
   "metadata": {},
   "outputs": [],
   "source": [
    "keys_list = ['a', 'b', 'c', 'd', 'e', 'f', 'g', 'h', 'i']\n",
    "values_list = [1, 2, 3, 4, 5, 6, 7, 8, 9]\n",
    "\n",
    "empty_dict = {}"
   ]
  },
  {
   "cell_type": "code",
   "execution_count": 41,
   "metadata": {},
   "outputs": [
    {
     "name": "stdout",
     "output_type": "stream",
     "text": [
      "{'a': 1, 'b': 2, 'c': 3, 'd': 4, 'e': 5, 'f': 6, 'g': 7, 'h': 8, 'i': 9}\n"
     ]
    }
   ],
   "source": [
    "# CODE HERE:\n",
    "for key, value in zip(keys_list, values_list):\n",
    "    empty_dict[key] = value\n",
    "print(empty_dict)\n",
    "\n",
    "# END CODE"
   ]
  },
  {
   "cell_type": "markdown",
   "metadata": {},
   "source": [
    "### **8. Dictionary Key Validation:**\n",
    "---\n",
    "Write a function that checks if all keys in a dictionary are strings.     \n",
    "If all keys are strings, the function should return `True`. Otherwise, it should return `False`."
   ]
  },
  {
   "cell_type": "code",
   "execution_count": 42,
   "metadata": {},
   "outputs": [],
   "source": [
    "dict_1 = {'a': 1, 'b': 2, 'c': 3, 'd': 4, 'e': 5, 'f': 6, 0: 7, 'h': 8, 'i': 9}"
   ]
  },
  {
   "cell_type": "code",
   "execution_count": 43,
   "metadata": {},
   "outputs": [
    {
     "data": {
      "text/plain": [
       "True"
      ]
     },
     "execution_count": 43,
     "metadata": {},
     "output_type": "execute_result"
    }
   ],
   "source": [
    "def is_key_str_in_dict(dictt):\n",
    "    # CODE HERE:\n",
    "    for key in dictt.keys():\n",
    "        if isinstance(key, str):\n",
    "            return True\n",
    "\n",
    "\n",
    "    # END CODE\n",
    "\n",
    "is_key_str_in_dict(dict_1)\n",
    "# Result: False"
   ]
  },
  {
   "cell_type": "markdown",
   "metadata": {},
   "source": [
    "### **9. Dictionary Key Search:**\n",
    "---\n",
    "Write a function that searches for a specific key in a dictionary and returns its value or a custom message `'Key not found'` if the key is not found."
   ]
  },
  {
   "cell_type": "code",
   "execution_count": 45,
   "metadata": {},
   "outputs": [],
   "source": [
    "dict_1 = {'a': 1, 'b': 2, 'c': 3, 'd': 4, 'e': 5, 0: 6, 'g': 7, 'h': 8, 'i': 9}\n",
    "search_key = 'w'"
   ]
  },
  {
   "cell_type": "code",
   "execution_count": 46,
   "metadata": {},
   "outputs": [
    {
     "name": "stdout",
     "output_type": "stream",
     "text": [
      "Key not found\n"
     ]
    }
   ],
   "source": [
    "def search_key_in_dict(dictt, search_key):\n",
    "    # CODE HERE:\n",
    "    if search_key in dictt.keys():\n",
    "        print(dictt[search_key])\n",
    "    else:\n",
    "        print('Key not found')\n",
    "\n",
    "    # END CODE\n",
    "\n",
    "\n",
    "search_key_in_dict(dict_1, search_key)\n",
    "# 'Key not found'"
   ]
  },
  {
   "cell_type": "markdown",
   "metadata": {},
   "source": [
    "### <span style=\"color:red\">**10. Prime numbers:**</span>\n",
    "---\n",
    "Create a function that given 2 numbers returns all the prime numbers between them."
   ]
  },
  {
   "cell_type": "code",
   "execution_count": 47,
   "metadata": {},
   "outputs": [
    {
     "name": "stdout",
     "output_type": "stream",
     "text": [
      "2\n",
      "3\n",
      "5\n",
      "7\n",
      "11\n",
      "13\n",
      "17\n",
      "19\n",
      "23\n",
      "29\n",
      "31\n",
      "37\n",
      "41\n",
      "43\n",
      "47\n",
      "53\n",
      "59\n",
      "61\n",
      "67\n",
      "71\n",
      "73\n",
      "79\n",
      "83\n",
      "89\n",
      "97\n"
     ]
    }
   ],
   "source": [
    "def prime_numbers(a, b):\n",
    "    # CODE HERE:\n",
    "    for num in range(a, b + 1):\n",
    "        if num > 1:\n",
    "            for i in range(2, num):\n",
    "                if (num % i) == 0:\n",
    "                    break\n",
    "            else:\n",
    "                print(num)\n",
    "\n",
    "    # END CODE\n",
    "\n",
    "prime_numbers(a = 1, b = 100)"
   ]
  },
  {
   "cell_type": "markdown",
   "metadata": {},
   "source": [
    "### **11. Dictionary Key Count:**\n",
    "---\n",
    "Write a function that counts the number of keys in a dictionary."
   ]
  },
  {
   "cell_type": "code",
   "execution_count": 48,
   "metadata": {},
   "outputs": [
    {
     "name": "stdout",
     "output_type": "stream",
     "text": [
      "5\n"
     ]
    }
   ],
   "source": [
    "dict_1 = {'a': 1, 'b': 2, 'c': \"4\", 'd': 4, 'e': \"hi\"}\n",
    "def key_count(dict):\n",
    "    # CODE HERE:\n",
    "    count = 0\n",
    "    for key in dict.keys():\n",
    "        count += 1\n",
    "    print(count)\n",
    "\n",
    "\n",
    "\n",
    "    # END CODE\n",
    "\n",
    "key_count(dict_1)\n",
    "# Result: 5"
   ]
  },
  {
   "cell_type": "markdown",
   "metadata": {},
   "source": [
    "### **12. Factorial Function:**\n",
    "---\n",
    "Write a function that calculates the factorial of a given number using a loop. Numbers must be positives, if not the function should return a message."
   ]
  },
  {
   "cell_type": "code",
   "execution_count": 50,
   "metadata": {},
   "outputs": [
    {
     "name": "stdout",
     "output_type": "stream",
     "text": [
      "120\n"
     ]
    }
   ],
   "source": [
    "def factorial(n):\n",
    "    # CODE HERE:\n",
    "    result = 1\n",
    "    for i in range(1, n + 1):\n",
    "        result *= i\n",
    "    print(result)\n",
    "\n",
    "\n",
    "    # END CODE\n",
    "\n",
    "factorial(5)\n",
    "# Result: 120"
   ]
  },
  {
   "cell_type": "markdown",
   "metadata": {},
   "source": [
    "### **13. Dictionary Value Sum:**\n",
    "---\n",
    "Implement a function that calculates the sum of all values in a dictionary that contains numeric values."
   ]
  },
  {
   "cell_type": "code",
   "execution_count": 51,
   "metadata": {},
   "outputs": [
    {
     "name": "stdout",
     "output_type": "stream",
     "text": [
      "163.6\n"
     ]
    }
   ],
   "source": [
    "dict_1 = {'a': 123, 'b': 23.4, 'c': \"4\", 'd': 4, 'e': \"hi\", 1: 13.2}\n",
    "\n",
    "def dict_value_sum(dict):\n",
    "    # CODE HERE:\n",
    "    suma = 0\n",
    "    for value in dict.values():\n",
    "        if isinstance(value, (int, float)):\n",
    "            suma += value\n",
    "    print(suma)\n",
    "\n",
    "\n",
    "    # END CODE\n",
    "\n",
    "dict_value_sum(dict_1)\n",
    "# Result: 163.6"
   ]
  },
  {
   "cell_type": "markdown",
   "metadata": {},
   "source": [
    "### **14. List Average:**\n",
    "---\n",
    "\n",
    "Create a function that computes the average of elements in a list, using a `for loop`"
   ]
  },
  {
   "cell_type": "code",
   "execution_count": 52,
   "metadata": {},
   "outputs": [
    {
     "name": "stdout",
     "output_type": "stream",
     "text": [
      "38.61538461538461\n"
     ]
    }
   ],
   "source": [
    "lista = [12, 43, 12, 65, 12, 43, 98, 43, 65, 0, 65, 43, 1]\n",
    "\n",
    "def list_average(lista):\n",
    "    # CODE HERE:\n",
    "    suma = 0\n",
    "    for num in lista:\n",
    "        suma += num\n",
    "    print(suma / len(lista))\n",
    "\n",
    "\n",
    "\n",
    "    # END CODE\n",
    "\n",
    "list_average(lista)\n",
    "# Result 38.61538461538461"
   ]
  },
  {
   "cell_type": "markdown",
   "metadata": {},
   "source": [
    "### <span style=\"color:red\">**15. Fibonacci Sequence:**</span>\n",
    "\n",
    "---\n",
    "Create a function that generates the Fibonacci sequence up to a specified number of terms and returns it as a list."
   ]
  },
  {
   "cell_type": "code",
   "execution_count": 53,
   "metadata": {},
   "outputs": [
    {
     "name": "stdout",
     "output_type": "stream",
     "text": [
      "55\n"
     ]
    }
   ],
   "source": [
    "def fibonacci(n):\n",
    "    # CODE HERE:\n",
    "    a = 0\n",
    "    b = 1\n",
    "    for i in range(n):\n",
    "        a, b = b, a + b\n",
    "    print(a)\n",
    "\n",
    "\n",
    "\n",
    "    # END CODE\n",
    "\n",
    "fibonacci(10)\n",
    "# Result 55"
   ]
  },
  {
   "cell_type": "markdown",
   "metadata": {},
   "source": [
    "---"
   ]
  }
 ],
 "metadata": {
  "kernelspec": {
   "display_name": "Python 3.9.13 64-bit (microsoft store)",
   "language": "python",
   "name": "python3"
  },
  "language_info": {
   "codemirror_mode": {
    "name": "ipython",
    "version": 3
   },
   "file_extension": ".py",
   "mimetype": "text/x-python",
   "name": "python",
   "nbconvert_exporter": "python",
   "pygments_lexer": "ipython3",
   "version": "3.9.6"
  },
  "orig_nbformat": 4,
  "vscode": {
   "interpreter": {
    "hash": "38c80501d2b2e4a9d6df779588d376b0530846b06a79a3e25422ca44224fd643"
   }
  }
 },
 "nbformat": 4,
 "nbformat_minor": 2
}
